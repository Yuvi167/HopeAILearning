{
 "cells": [
  {
   "cell_type": "code",
   "execution_count": 1,
   "id": "4e0bf107-1e40-4517-b28e-84ebcfa1cde7",
   "metadata": {},
   "outputs": [
    {
     "name": "stdout",
     "output_type": "stream",
     "text": [
      "HOPE AI\n"
     ]
    }
   ],
   "source": [
    "print(\"HOPE AI\")"
   ]
  },
  {
   "cell_type": "code",
   "execution_count": 2,
   "id": "3ea94346-1b1c-467e-a5a6-94300637fd37",
   "metadata": {},
   "outputs": [
    {
     "name": "stdin",
     "output_type": "stream",
     "text": [
      "Enter your institute name? : HOPE AI\n"
     ]
    },
    {
     "data": {
      "text/plain": [
       "'HOPE AI'"
      ]
     },
     "execution_count": 2,
     "metadata": {},
     "output_type": "execute_result"
    }
   ],
   "source": [
    "input(\"Enter your institute name? :\")"
   ]
  },
  {
   "cell_type": "code",
   "execution_count": 3,
   "id": "ce8e1b7b-8903-4705-9451-02a8c49d51d2",
   "metadata": {},
   "outputs": [
    {
     "name": "stdin",
     "output_type": "stream",
     "text": [
      "Enter your name:  Raj\n",
      "Enter your age:  15\n",
      "Enter your school name:  Guru School\n",
      "Enter your drgree:  BE CSE\n"
     ]
    }
   ],
   "source": [
    "Name = input(\"Enter your name: \")\n",
    "Age = input(\"Enter your age: \")\n",
    "School_Name = input(\"Enter your school name: \")\n",
    "Degree = input(\"Enter your drgree: \")"
   ]
  },
  {
   "cell_type": "code",
   "execution_count": 4,
   "id": "a388b198-c200-4bc5-a734-d8c1bf78910d",
   "metadata": {},
   "outputs": [
    {
     "name": "stdin",
     "output_type": "stream",
     "text": [
      "a:  43\n",
      "b:  34\n"
     ]
    },
    {
     "name": "stdout",
     "output_type": "stream",
     "text": [
      "add:  77\n"
     ]
    }
   ],
   "source": [
    "#Addition\n",
    "a = int(input(\"a: \"))\n",
    "b = int(input(\"b: \"))\n",
    "print(\"add: \",a+b)"
   ]
  },
  {
   "cell_type": "code",
   "execution_count": 6,
   "id": "3b659733-6c15-4a2d-9206-649f1eccaba5",
   "metadata": {},
   "outputs": [
    {
     "name": "stdin",
     "output_type": "stream",
     "text": [
      "a:  43\n",
      "b:  34\n"
     ]
    },
    {
     "name": "stdout",
     "output_type": "stream",
     "text": [
      "Sub:  9\n"
     ]
    }
   ],
   "source": [
    "#Subtraction\n",
    "a = int(input(\"a: \"))\n",
    "b = int(input(\"b: \"))\n",
    "print(\"Sub: \",a-b)"
   ]
  },
  {
   "cell_type": "code",
   "execution_count": 7,
   "id": "04d03a74-7f29-4ee7-b373-964359904d1e",
   "metadata": {},
   "outputs": [
    {
     "name": "stdin",
     "output_type": "stream",
     "text": [
      "a:  63\n",
      "b:  97\n"
     ]
    },
    {
     "name": "stdout",
     "output_type": "stream",
     "text": [
      "Mul:  6111\n"
     ]
    }
   ],
   "source": [
    "#Multiplication\n",
    "a = int(input(\"a: \"))\n",
    "b = int(input(\"b: \"))\n",
    "print(\"Mul: \",a*b)"
   ]
  },
  {
   "cell_type": "code",
   "execution_count": 9,
   "id": "c1ffad17-fb6b-4b16-ab61-bd3110a711db",
   "metadata": {},
   "outputs": [
    {
     "name": "stdin",
     "output_type": "stream",
     "text": [
      "a:  76\n",
      "b:  31\n"
     ]
    },
    {
     "name": "stdout",
     "output_type": "stream",
     "text": [
      "Float Div:  2.4516129032258065\n"
     ]
    }
   ],
   "source": [
    "#Division\n",
    "a = float(input(\"a: \"))\n",
    "b = float(input(\"b: \"))\n",
    "print(\"Float Div: \",a/b)"
   ]
  },
  {
   "cell_type": "code",
   "execution_count": 11,
   "id": "00fae223-6928-4da7-a392-3840dacc3a6b",
   "metadata": {},
   "outputs": [
    {
     "name": "stdin",
     "output_type": "stream",
     "text": [
      "a:  76\n",
      "b:  31\n"
     ]
    },
    {
     "name": "stdout",
     "output_type": "stream",
     "text": [
      "Floor Div:  2\n"
     ]
    }
   ],
   "source": [
    "#Floor division\n",
    "a = float(input(\"a: \"))\n",
    "b = float(input(\"b: \"))\n",
    "print(\"Floor Div: \",int(a/b))  #also we can do this by floor div //"
   ]
  },
  {
   "cell_type": "code",
   "execution_count": 13,
   "id": "a411c066-604e-4dc4-aa5e-b81c4f759330",
   "metadata": {},
   "outputs": [
    {
     "name": "stdin",
     "output_type": "stream",
     "text": [
      "a:  76\n",
      "b:  31\n"
     ]
    },
    {
     "name": "stdout",
     "output_type": "stream",
     "text": [
      "Modulo:  14\n"
     ]
    }
   ],
   "source": [
    "#Modulo\n",
    "a = int(input(\"a: \"))\n",
    "b = int(input(\"b: \"))\n",
    "print(\"Modulo: \",a%b)"
   ]
  },
  {
   "cell_type": "code",
   "execution_count": 14,
   "id": "d03988e6-45ea-4276-ba02-b6984137cf9b",
   "metadata": {},
   "outputs": [
    {
     "name": "stdin",
     "output_type": "stream",
     "text": [
      "a:  4\n",
      "b:  4\n"
     ]
    },
    {
     "name": "stdout",
     "output_type": "stream",
     "text": [
      "Power:  256\n"
     ]
    }
   ],
   "source": [
    "#Power\n",
    "a = int(input(\"a: \"))\n",
    "b = int(input(\"b: \"))\n",
    "print(\"Power: \",pow(a,b))"
   ]
  },
  {
   "cell_type": "code",
   "execution_count": null,
   "id": "0254b895-8131-43bb-b3f6-bea3ac0f4edd",
   "metadata": {},
   "outputs": [],
   "source": []
  }
 ],
 "metadata": {
  "kernelspec": {
   "display_name": "Python 3 (ipykernel)",
   "language": "python",
   "name": "python3"
  },
  "language_info": {
   "codemirror_mode": {
    "name": "ipython",
    "version": 3
   },
   "file_extension": ".py",
   "mimetype": "text/x-python",
   "name": "python",
   "nbconvert_exporter": "python",
   "pygments_lexer": "ipython3",
   "version": "3.12.4"
  }
 },
 "nbformat": 4,
 "nbformat_minor": 5
}
