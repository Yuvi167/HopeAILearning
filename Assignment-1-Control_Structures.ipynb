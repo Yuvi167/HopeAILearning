{
 "cells": [
  {
   "cell_type": "code",
   "execution_count": 1,
   "id": "c13d4c0c-4cf4-462f-b551-cee7b3bc143f",
   "metadata": {},
   "outputs": [
    {
     "name": "stdout",
     "output_type": "stream",
     "text": [
      "Welcome to Assignment-1\n"
     ]
    }
   ],
   "source": [
    "print(\"Welcome to Assignment-1\")"
   ]
  },
  {
   "cell_type": "code",
   "execution_count": 2,
   "id": "a099e550-4d53-4c50-ade5-3cd5ff692647",
   "metadata": {},
   "outputs": [
    {
     "name": "stdin",
     "output_type": "stream",
     "text": [
      "Enter the Num1 value:  10\n"
     ]
    }
   ],
   "source": [
    "Num1=int(input(\"Enter the Num1 value: \"))"
   ]
  },
  {
   "cell_type": "code",
   "execution_count": 3,
   "id": "90ce9aab-c97c-4780-b46f-95f62eeecfd4",
   "metadata": {},
   "outputs": [
    {
     "name": "stdin",
     "output_type": "stream",
     "text": [
      "Enter the Num2 value:  30\n"
     ]
    }
   ],
   "source": [
    "Num2=int(input(\"Enter the Num2 value: \"))"
   ]
  },
  {
   "cell_type": "code",
   "execution_count": 5,
   "id": "4eac297e-a50a-42dc-8ae9-dd44a2e5f766",
   "metadata": {},
   "outputs": [
    {
     "name": "stdout",
     "output_type": "stream",
     "text": [
      "Num1=  10\n",
      "Num2=  30\n",
      "Add=  40\n"
     ]
    }
   ],
   "source": [
    "print(\"Num1= \",Num1)\n",
    "print(\"Num2= \",Num2)\n",
    "print(\"Add= \",Num1+Num2)"
   ]
  },
  {
   "cell_type": "code",
   "execution_count": 8,
   "id": "04848acf-c364-41cd-b0a9-2d0a496aa81c",
   "metadata": {},
   "outputs": [
    {
     "name": "stdin",
     "output_type": "stream",
     "text": [
      "Enter the BMI Index:  34.00\n"
     ]
    }
   ],
   "source": [
    "Weight=float(input(\"Enter the BMI Index: \"))"
   ]
  },
  {
   "cell_type": "code",
   "execution_count": 9,
   "id": "b6279749-4675-48a0-8690-b2b19fc2f9fa",
   "metadata": {},
   "outputs": [
    {
     "name": "stdout",
     "output_type": "stream",
     "text": [
      "Very Overweight\n"
     ]
    }
   ],
   "source": [
    "if(Weight<18.5):\n",
    "    print(\"Underweight\")\n",
    "elif(Weight<24.90):\n",
    "    print(\"Normal\")\n",
    "elif(Weight<30):\n",
    "    print(\"Overweight\")\n",
    "else:\n",
    "    print(\"Very Overweight\")"
   ]
  },
  {
   "cell_type": "code",
   "execution_count": null,
   "id": "331d0c1a-995e-4220-a504-bf403989fcee",
   "metadata": {},
   "outputs": [],
   "source": []
  }
 ],
 "metadata": {
  "kernelspec": {
   "display_name": "Python 3 (ipykernel)",
   "language": "python",
   "name": "python3"
  },
  "language_info": {
   "codemirror_mode": {
    "name": "ipython",
    "version": 3
   },
   "file_extension": ".py",
   "mimetype": "text/x-python",
   "name": "python",
   "nbconvert_exporter": "python",
   "pygments_lexer": "ipython3",
   "version": "3.12.4"
  }
 },
 "nbformat": 4,
 "nbformat_minor": 5
}
