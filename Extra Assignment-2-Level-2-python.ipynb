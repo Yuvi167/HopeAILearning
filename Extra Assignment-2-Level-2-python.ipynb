{
 "cells": [
  {
   "cell_type": "code",
   "execution_count": 3,
   "id": "48031f18-e82a-442c-935f-9e514aa8fdf0",
   "metadata": {},
   "outputs": [
    {
     "name": "stdout",
     "output_type": "stream",
     "text": [
      "0\n",
      "1\n",
      "2\n",
      "3\n",
      "4\n",
      "5\n",
      "6\n",
      "7\n",
      "8\n",
      "9\n",
      "10\n",
      "11\n",
      "12\n",
      "13\n",
      "14\n",
      "15\n",
      "16\n",
      "17\n",
      "18\n",
      "19\n"
     ]
    }
   ],
   "source": [
    "# print 0 to 20 by using range\n",
    "for num in range(0, 20):\n",
    "    print(num)"
   ]
  },
  {
   "cell_type": "code",
   "execution_count": 4,
   "id": "cf0c39fd-74c2-492d-b28b-f919392d2bf0",
   "metadata": {},
   "outputs": [
    {
     "name": "stdout",
     "output_type": "stream",
     "text": [
      "10\n",
      "11\n",
      "12\n",
      "13\n",
      "14\n",
      "15\n",
      "16\n",
      "17\n",
      "18\n",
      "19\n"
     ]
    }
   ],
   "source": [
    "# print range 10 to 20\n",
    "for num in range(10, 20):\n",
    "    print(num)"
   ]
  },
  {
   "cell_type": "code",
   "execution_count": 6,
   "id": "f173f669-d832-455e-a73d-a9ae6332f2fa",
   "metadata": {},
   "outputs": [
    {
     "name": "stdout",
     "output_type": "stream",
     "text": [
      "Number of item in the List2:  7\n"
     ]
    }
   ],
   "source": [
    "# Print number of items in the list by using 'len'\n",
    "List2 = [10, 20, 14, 55, 43, 87, 76]\n",
    "print(\"Number of item in the List2: \",len(List2))"
   ]
  },
  {
   "cell_type": "code",
   "execution_count": 7,
   "id": "af93779e-a53e-46bf-b269-972114e388ed",
   "metadata": {},
   "outputs": [
    {
     "name": "stdin",
     "output_type": "stream",
     "text": [
      "Enter the word:  Artificial Intelligence\n"
     ]
    },
    {
     "name": "stdout",
     "output_type": "stream",
     "text": [
      "A\n",
      "r\n",
      "t\n",
      "i\n",
      "f\n",
      "i\n",
      "c\n",
      "i\n",
      "a\n",
      "l\n",
      " \n",
      "I\n",
      "n\n",
      "t\n",
      "e\n",
      "l\n",
      "l\n",
      "i\n",
      "g\n",
      "e\n",
      "n\n",
      "c\n",
      "e\n"
     ]
    }
   ],
   "source": [
    "Word=input(\"Enter the word: \")\n",
    "for x in Word:\n",
    "    print(x)"
   ]
  },
  {
   "cell_type": "code",
   "execution_count": 8,
   "id": "5dfaa88e-97c6-42b3-a96e-4aa5117be98d",
   "metadata": {},
   "outputs": [
    {
     "name": "stdout",
     "output_type": "stream",
     "text": [
      "Name- Yuvaraj\n",
      "Age - 26\n",
      "Profession - Software Engineer\n"
     ]
    }
   ],
   "source": [
    "print(\"Name- Yuvaraj\")\n",
    "print(\"Age - 26\")\n",
    "print(\"Profession - Software Engineer\")"
   ]
  },
  {
   "cell_type": "code",
   "execution_count": 10,
   "id": "5c67942a-a851-4592-a913-8c0fa5f237c7",
   "metadata": {},
   "outputs": [
    {
     "name": "stdin",
     "output_type": "stream",
     "text": [
      "Enter number of elements in tuples:  4\n",
      "Enter element 1:  1\n",
      "Enter element 2:  'Welcome'\n",
      "Enter element 3:  2\n",
      "Enter element 4:  'Hope'\n"
     ]
    },
    {
     "name": "stdout",
     "output_type": "stream",
     "text": [
      "Tuple1:  ('1', \"'Welcome'\", '2', \"'Hope'\")\n"
     ]
    }
   ],
   "source": [
    "n=int(input(\"Enter number of elements in tuples: \"))\n",
    "mylist = []\n",
    "for i in range(n):\n",
    "    element = input(f\"Enter element {i+1}: \")\n",
    "    mylist.append(element)\n",
    "\n",
    "Tuple1=tuple(mylist)\n",
    "\n",
    "print(\"Tuple1: \", Tuple1)"
   ]
  },
  {
   "cell_type": "code",
   "execution_count": 13,
   "id": "c86d7d48-e435-42a4-b989-f100da825ed0",
   "metadata": {},
   "outputs": [
    {
     "name": "stdout",
     "output_type": "stream",
     "text": [
      "(0, 1, 2, 3, 'Python', 'Hope')\n",
      "((0, 1, 2, 3), ('Python', 'Hope'))\n"
     ]
    }
   ],
   "source": [
    "tup1=(0,1,2,3)\n",
    "tup2=('Python','Hope')\n",
    "tup3=tup1+tup2\n",
    "tup4=(tup1, tup2)\n",
    "print(tup3)\n",
    "print(tup4)"
   ]
  },
  {
   "cell_type": "code",
   "execution_count": 15,
   "id": "76a4053f-0703-4649-8742-8ad4031c3b43",
   "metadata": {},
   "outputs": [
    {
     "name": "stdout",
     "output_type": "stream",
     "text": [
      "19 is odd\n",
      "25 is odd\n",
      "1 is odd\n"
     ]
    }
   ],
   "source": [
    "tup = (20,10,16,19,25,1,276,188)\n",
    "for i in tup:\n",
    "    if (i%2!=0):\n",
    "        print(f\"{i} is odd\")"
   ]
  },
  {
   "cell_type": "code",
   "execution_count": 16,
   "id": "5d343bbd-69ca-4935-9eea-8ff0d13973e0",
   "metadata": {},
   "outputs": [
    {
     "name": "stdout",
     "output_type": "stream",
     "text": [
      "20 is Even\n",
      "10 is Even\n",
      "16 is Even\n",
      "276 is Even\n",
      "188 is Even\n"
     ]
    }
   ],
   "source": [
    "#even number using tuple\n",
    "tup=(20,10,16,19,25,1,276,188)\n",
    "for i in tup:\n",
    "    if (i%2==0):\n",
    "        print(f\"{i} is Even\")"
   ]
  },
  {
   "cell_type": "code",
   "execution_count": null,
   "id": "2cfab48b-2b27-4674-bc98-f4c4432ad7a2",
   "metadata": {},
   "outputs": [],
   "source": []
  }
 ],
 "metadata": {
  "kernelspec": {
   "display_name": "Python 3 (ipykernel)",
   "language": "python",
   "name": "python3"
  },
  "language_info": {
   "codemirror_mode": {
    "name": "ipython",
    "version": 3
   },
   "file_extension": ".py",
   "mimetype": "text/x-python",
   "name": "python",
   "nbconvert_exporter": "python",
   "pygments_lexer": "ipython3",
   "version": "3.12.4"
  }
 },
 "nbformat": 4,
 "nbformat_minor": 5
}
