{
 "cells": [
  {
   "cell_type": "code",
   "execution_count": 1,
   "id": "f57e5f76-6d23-498d-aa77-6362b6994881",
   "metadata": {},
   "outputs": [],
   "source": [
    "from multipleFunctions import MultipleFunctions"
   ]
  },
  {
   "cell_type": "code",
   "execution_count": 3,
   "id": "eba77433-3550-4e00-b630-c859c4ac34f0",
   "metadata": {},
   "outputs": [
    {
     "name": "stdout",
     "output_type": "stream",
     "text": [
      "Sub-fields in AI are: \n",
      "Machine Learing \n",
      "Neural Networks \n",
      "Vision \n",
      "Robotics \n",
      "Speech Processing \n",
      "Natural Language Processing\n"
     ]
    }
   ],
   "source": [
    "MultipleFunctions.Subfields()"
   ]
  },
  {
   "cell_type": "code",
   "execution_count": 4,
   "id": "67833feb-e63b-4187-b11e-2022a7378308",
   "metadata": {},
   "outputs": [
    {
     "name": "stdin",
     "output_type": "stream",
     "text": [
      "Enter the number to check:  33\n"
     ]
    },
    {
     "name": "stdout",
     "output_type": "stream",
     "text": [
      "Enter 33 is odd number\n"
     ]
    }
   ],
   "source": [
    "MultipleFunctions.OddEven()"
   ]
  },
  {
   "cell_type": "code",
   "execution_count": 5,
   "id": "3343b6a9-36d2-4c1f-9c86-6af033b2bc5c",
   "metadata": {},
   "outputs": [
    {
     "name": "stdout",
     "output_type": "stream",
     "text": [
      "Gender:  Female\n",
      "Age:  16\n"
     ]
    },
    {
     "data": {
      "text/plain": [
       "'NOT ELIGIBLE'"
      ]
     },
     "execution_count": 5,
     "metadata": {},
     "output_type": "execute_result"
    }
   ],
   "source": [
    "MultipleFunctions.eligible('Female', 16)"
   ]
  },
  {
   "cell_type": "code",
   "execution_count": 6,
   "id": "e5bb7442-d19c-472c-9023-215e0c93a1b8",
   "metadata": {},
   "outputs": [
    {
     "name": "stdout",
     "output_type": "stream",
     "text": [
      "Number of subject is 5\n"
     ]
    },
    {
     "name": "stdin",
     "output_type": "stream",
     "text": [
      "Enter Subject mark1:  78\n",
      "Enter Subject mark2:  98\n",
      "Enter Subject mark3:  88\n",
      "Enter Subject mark4:  95\n",
      "Enter Subject mark5:  92\n"
     ]
    },
    {
     "name": "stdout",
     "output_type": "stream",
     "text": [
      "Total marks: 451.0\n",
      "Percentage: 90.2\n"
     ]
    }
   ],
   "source": [
    "MultipleFunctions.percentage(5)"
   ]
  },
  {
   "cell_type": "code",
   "execution_count": 7,
   "id": "48b8ac60-ad39-4b20-8805-a45e7ec6d5b2",
   "metadata": {},
   "outputs": [
    {
     "name": "stdin",
     "output_type": "stream",
     "text": [
      "Height:  6\n",
      "Breadth:  7\n"
     ]
    },
    {
     "name": "stdout",
     "output_type": "stream",
     "text": [
      "Area formula: (Height*Breadth)/2\n",
      "Area of Triangle:  21.0\n"
     ]
    },
    {
     "name": "stdin",
     "output_type": "stream",
     "text": [
      "Height1:  89\n",
      "Height2:  60\n",
      "Breadth:  90\n"
     ]
    },
    {
     "name": "stdout",
     "output_type": "stream",
     "text": [
      "Perimeter formula: Height1+Height2+Breadth\n",
      "Perimeter of Triangle:  239\n"
     ]
    }
   ],
   "source": [
    "MultipleFunctions.triangle()"
   ]
  },
  {
   "cell_type": "code",
   "execution_count": null,
   "id": "c0d54dde-5399-49e5-a69f-991536f86c5a",
   "metadata": {},
   "outputs": [],
   "source": []
  }
 ],
 "metadata": {
  "kernelspec": {
   "display_name": "Python 3 (ipykernel)",
   "language": "python",
   "name": "python3"
  },
  "language_info": {
   "codemirror_mode": {
    "name": "ipython",
    "version": 3
   },
   "file_extension": ".py",
   "mimetype": "text/x-python",
   "name": "python",
   "nbconvert_exporter": "python",
   "pygments_lexer": "ipython3",
   "version": "3.12.4"
  }
 },
 "nbformat": 4,
 "nbformat_minor": 5
}
