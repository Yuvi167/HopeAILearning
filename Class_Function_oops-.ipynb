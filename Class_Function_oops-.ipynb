{
 "cells": [
  {
   "cell_type": "code",
   "execution_count": 2,
   "id": "da205cac-1fe1-456b-9328-18e7326b7453",
   "metadata": {},
   "outputs": [],
   "source": [
    "class SubfieldsInAI():\n",
    "    def Subfields():\n",
    "        print(\"Sub-fields in AI are: \")\n",
    "        print(\"Machine Learing \\nNeural Networks \\nVision \\nRobotics \\nSpeech Processing \\nNatural Language Processing\")"
   ]
  },
  {
   "cell_type": "code",
   "execution_count": 5,
   "id": "dcf95c8b-1d1d-4160-b780-3327083425dc",
   "metadata": {},
   "outputs": [
    {
     "name": "stdout",
     "output_type": "stream",
     "text": [
      "Sub-fields in AI are: \n",
      "Machine Learing \n",
      "Neural Networks \n",
      "Vision \n",
      "Robotics \n",
      "Speech Processing \n",
      "Natural Language Processing\n"
     ]
    }
   ],
   "source": [
    "SubfieldsInAI.Subfields()"
   ]
  },
  {
   "cell_type": "code",
   "execution_count": 6,
   "id": "5358ce40-9225-4f1e-b53c-2440825c2f66",
   "metadata": {},
   "outputs": [],
   "source": [
    "#to check odd or even\n",
    "class FindOddEven():\n",
    "    def OddEven():\n",
    "        num=int(input(\"Enter the number to check: \"))\n",
    "        if num%2==0:\n",
    "            print(f\"Enter {num} is even number\")\n",
    "        elif num%2==1:\n",
    "            print(f\"Enter {num} is odd number\")\n",
    "        else:\n",
    "            pass"
   ]
  },
  {
   "cell_type": "code",
   "execution_count": 7,
   "id": "1c10c290-ae04-4ba1-961b-6949bd3b33bb",
   "metadata": {},
   "outputs": [
    {
     "name": "stdin",
     "output_type": "stream",
     "text": [
      "Enter the number to check:  56\n"
     ]
    },
    {
     "name": "stdout",
     "output_type": "stream",
     "text": [
      "Enter 56 is even number\n"
     ]
    }
   ],
   "source": [
    "FindOddEven.OddEven()"
   ]
  },
  {
   "cell_type": "code",
   "execution_count": 8,
   "id": "fbdcaaa4-1cbc-4307-967f-cbf0276610de",
   "metadata": {},
   "outputs": [],
   "source": [
    "class EligiblityForMarriage():\n",
    "    def eligible(gender, age):\n",
    "        print(\"Gender: \", gender)\n",
    "        print(\"Age: \", age)\n",
    "        if (gender=='Male' and age>=21):\n",
    "            Val='ELIGIBLE'\n",
    "        elif (gender=='Female' and age>=18):\n",
    "            Val='ELIGIBLE'\n",
    "        else:\n",
    "            Val='NOT ELIGIBLE'\n",
    "        return Val"
   ]
  },
  {
   "cell_type": "code",
   "execution_count": 10,
   "id": "1c6b6111-46b8-4cb7-8994-0ec1a5a5ece6",
   "metadata": {},
   "outputs": [
    {
     "name": "stdout",
     "output_type": "stream",
     "text": [
      "Gender:  Male\n",
      "Age:  22\n"
     ]
    },
    {
     "data": {
      "text/plain": [
       "'ELIGIBLE'"
      ]
     },
     "execution_count": 10,
     "metadata": {},
     "output_type": "execute_result"
    }
   ],
   "source": [
    "EligiblityForMarriage.eligible('Male', 22)"
   ]
  },
  {
   "cell_type": "code",
   "execution_count": 11,
   "id": "96fa416d-34f5-4fc3-a4ac-06a3676811ab",
   "metadata": {},
   "outputs": [],
   "source": [
    "class Findpercent():\n",
    "    def percentage(num):\n",
    "        print(f\"Number of subject is {num}\")\n",
    "        add = []\n",
    "    \n",
    "        for i in range(num):\n",
    "            mark=float(input(f\"Enter Subject mark{i+1}: \"))\n",
    "            add.append(mark)\n",
    "\n",
    "        total=sum(add)\n",
    "        print(f\"Total marks: {total}\")\n",
    "        per = total / num\n",
    "        print(f\"Percentage: {per}\")\n",
    "        return"
   ]
  },
  {
   "cell_type": "code",
   "execution_count": 12,
   "id": "b7814d5b-f75e-4994-a30d-c5b61788c175",
   "metadata": {},
   "outputs": [
    {
     "name": "stdout",
     "output_type": "stream",
     "text": [
      "Number of subject is 5\n"
     ]
    },
    {
     "name": "stdin",
     "output_type": "stream",
     "text": [
      "Enter Subject mark1:  90\n",
      "Enter Subject mark2:  92\n",
      "Enter Subject mark3:  87\n",
      "Enter Subject mark4:  92\n",
      "Enter Subject mark5:  98\n"
     ]
    },
    {
     "name": "stdout",
     "output_type": "stream",
     "text": [
      "Total marks: 459.0\n",
      "Percentage: 91.8\n"
     ]
    }
   ],
   "source": [
    "Findpercent.percentage(5)"
   ]
  },
  {
   "cell_type": "code",
   "execution_count": 13,
   "id": "b3b19813-cda6-4f36-a20d-ca5ba8927edd",
   "metadata": {},
   "outputs": [],
   "source": [
    "#Area of triangle & perimeter\n",
    "class Findtriangle():\n",
    "    def triangle():\n",
    "        Hei = int(input(\"Height: \"))\n",
    "        Bre = int(input(\"Breadth: \"))\n",
    "        print(\"Area formula: (Height*Breadth)/2\")\n",
    "        print(\"Area of Triangle: \", (Hei*Bre)/2)\n",
    "        Hei1 = int(input(\"Height1: \"))\n",
    "        Hei2 = int(input(\"Height2: \"))\n",
    "        Bre = int(input(\"Breadth: \"))\n",
    "        print(\"Perimeter formula: Height1+Height2+Breadth\")\n",
    "        print(\"Perimeter of Triangle: \", Hei1+Hei2+Bre)\n",
    "    "
   ]
  },
  {
   "cell_type": "code",
   "execution_count": 14,
   "id": "dd7c77ba-188e-444f-b8aa-97aa4da4066f",
   "metadata": {},
   "outputs": [
    {
     "name": "stdin",
     "output_type": "stream",
     "text": [
      "Height:  3\n",
      "Breadth:  4\n"
     ]
    },
    {
     "name": "stdout",
     "output_type": "stream",
     "text": [
      "Area formula: (Height*Breadth)/2\n",
      "Area of Triangle:  6.0\n"
     ]
    },
    {
     "name": "stdin",
     "output_type": "stream",
     "text": [
      "Height1:  25\n",
      "Height2:  35\n",
      "Breadth:  45\n"
     ]
    },
    {
     "name": "stdout",
     "output_type": "stream",
     "text": [
      "Perimeter formula: Height1+Height2+Breadth\n",
      "Perimeter of Triangle:  105\n"
     ]
    }
   ],
   "source": [
    "Findtriangle.triangle()"
   ]
  },
  {
   "cell_type": "code",
   "execution_count": null,
   "id": "ba4933ce-fc6b-42f8-85c4-142e875eae79",
   "metadata": {},
   "outputs": [],
   "source": []
  },
  {
   "cell_type": "code",
   "execution_count": null,
   "id": "1bd1eeea-9010-4c54-bb94-0252fdb5d808",
   "metadata": {},
   "outputs": [],
   "source": []
  }
 ],
 "metadata": {
  "kernelspec": {
   "display_name": "Python 3 (ipykernel)",
   "language": "python",
   "name": "python3"
  },
  "language_info": {
   "codemirror_mode": {
    "name": "ipython",
    "version": 3
   },
   "file_extension": ".py",
   "mimetype": "text/x-python",
   "name": "python",
   "nbconvert_exporter": "python",
   "pygments_lexer": "ipython3",
   "version": "3.12.4"
  }
 },
 "nbformat": 4,
 "nbformat_minor": 5
}
